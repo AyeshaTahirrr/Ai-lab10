{
 "cells": [
  {
   "cell_type": "code",
   "execution_count": 5,
   "id": "0c6ea285-7f0b-4da4-95f2-77c1ca9f41f5",
   "metadata": {},
   "outputs": [
    {
     "name": "stdout",
     "output_type": "stream",
     "text": [
      "Ayesha\n",
      "Maryam\n",
      "Hanan\n",
      "Kinza\n"
     ]
    }
   ],
   "source": [
    "names = [\"Ayesha\", \"Maryam\", \"Hanan\", \"Kinza\"]\n",
    "for name in names:\n",
    "    print(name)"
   ]
  },
  {
   "cell_type": "code",
   "execution_count": 3,
   "id": "498948c6-c77d-4324-8e6e-842b73ae56b4",
   "metadata": {},
   "outputs": [
    {
     "name": "stdout",
     "output_type": "stream",
     "text": [
      "Dear Maryam Tahir, you are cordially invited to dinner!\n",
      "Dear Malaika Gohar, you are cordially invited to dinner!\n",
      "Dear Kinza Arshad, you are cordially invited to dinner!\n"
     ]
    }
   ],
   "source": [
    "dinner_guests = [\"Maryam Tahir\", \"Malaika Gohar\", \"Kinza Arshad\"]\n",
    "for guest in dinner_guests:\n",
    "    print(f\"Dear {guest}, you are cordially invited to dinner!\")"
   ]
  },
  {
   "cell_type": "code",
   "execution_count": 7,
   "id": "83ef585d-8955-46b7-be38-b157ec1fe3dc",
   "metadata": {},
   "outputs": [
    {
     "name": "stdout",
     "output_type": "stream",
     "text": [
      "Unfortunately, Malaika Gohar can't make it to dinner.\n",
      "Dear Maryam Tahir, you are still invited to dinner!\n",
      "Dear Zeenat Khan, you are still invited to dinner!\n",
      "Dear Kinza Arshad, you are still invited to dinner!\n"
     ]
    }
   ],
   "source": [
    "dinner_guests = [\"Maryam Tahir\", \"Malaika Gohar\", \"Kinza Arshad\"]\n",
    "print(f\"Unfortunately, {dinner_guests[1]} can't make it to dinner.\")\n",
    "dinner_guests[1] = \"Zeenat Khan\"\n",
    "\n",
    "for guest in dinner_guests:\n",
    "    print(f\"Dear {guest}, you are still invited to dinner!\")\n"
   ]
  },
  {
   "cell_type": "code",
   "execution_count": 9,
   "id": "c0ea8f9f-d48c-4eae-aca2-e983f58550a0",
   "metadata": {},
   "outputs": [
    {
     "name": "stdout",
     "output_type": "stream",
     "text": [
      "Name: Sara, Salary: 50000\n",
      "Name: Ayna, Salary: 60000\n",
      "Total Employees: 2\n"
     ]
    }
   ],
   "source": [
    "class Employee:\n",
    "    employee_count = 0\n",
    "\n",
    "    def __init__(self, empName, salary):\n",
    "        self.empName = empName\n",
    "        self.salary = salary\n",
    "        Employee.employee_count += 1\n",
    "\n",
    "    @staticmethod\n",
    "    def displayCount():\n",
    "        print(f\"Total Employees: {Employee.employee_count}\")\n",
    "\n",
    "    def displayEmployee(self):\n",
    "        print(f\"Name: {self.empName}, Salary: {self.salary}\")\n",
    "\n",
    "emp1 = Employee(\"Sara\", 50000)\n",
    "emp2 = Employee(\"Ayna\", 60000)\n",
    "\n",
    "emp1.displayEmployee()\n",
    "emp2.displayEmployee()\n",
    "Employee.displayCount()\n"
   ]
  },
  {
   "cell_type": "code",
   "execution_count": 11,
   "id": "0d8324b5-6217-4fdb-8776-710361a5f3cd",
   "metadata": {},
   "outputs": [
    {
     "name": "stdout",
     "output_type": "stream",
     "text": [
      "Queue items in LIFO Order\n",
      "3\n",
      "2\n",
      "1\n"
     ]
    }
   ],
   "source": [
    "from queue import LifoQueue\n",
    "\n",
    "lifo_queue = LifoQueue()\n",
    "\n",
    "lifo_queue.put(1)\n",
    "lifo_queue.put(2)\n",
    "lifo_queue.put(3)\n",
    "\n",
    "print(\"Queue items in LIFO Order\")\n",
    "print(lifo_queue.get())  \n",
    "print(lifo_queue.get())  \n",
    "print(lifo_queue.get())  \n"
   ]
  },
  {
   "cell_type": "code",
   "execution_count": 1,
   "id": "9ceefd88-b43e-4eb2-96ba-5dfffc223329",
   "metadata": {},
   "outputs": [
    {
     "name": "stdout",
     "output_type": "stream",
     "text": [
      "After inserting 4: [4]\n",
      "After inserting 8: [8, 4]\n",
      "After inserting 1: [8, 4, 1]\n",
      "After inserting 7: [8, 7, 1, 4]\n",
      "After inserting 3: [8, 7, 1, 4, 3]\n"
     ]
    }
   ],
   "source": [
    "import heapq\n",
    "max_priority_queue = []\n",
    "\n",
    "heapq.heappush(max_priority_queue, -4)\n",
    "print(\"After inserting 4:\", [-x for x in max_priority_queue])\n",
    "\n",
    "heapq.heappush(max_priority_queue, -8)\n",
    "print(\"After inserting 8:\", [-x for x in max_priority_queue])\n",
    "\n",
    "heapq.heappush(max_priority_queue, -1)\n",
    "print(\"After inserting 1:\", [-x for x in max_priority_queue])\n",
    "\n",
    "heapq.heappush(max_priority_queue, -7)\n",
    "print(\"After inserting 7:\", [-x for x in max_priority_queue])\n",
    "\n",
    "heapq.heappush(max_priority_queue, -3)\n",
    "print(\"After inserting 3:\", [-x for x in max_priority_queue])\n"
   ]
  },
  {
   "cell_type": "code",
   "execution_count": 3,
   "id": "8b08951d-3965-470c-82fc-bc34e60add4a",
   "metadata": {},
   "outputs": [
    {
     "name": "stdout",
     "output_type": "stream",
     "text": [
      "Vertex 1 with neighbors [2, 3]\n",
      "Vertex 2 with neighbors [1, 4]\n",
      "Vertex 3 with neighbors [1, 5]\n",
      "Vertex 4 with neighbors [2, 5]\n",
      "Vertex 5 with neighbors [3]\n"
     ]
    }
   ],
   "source": [
    "class Vertex:\n",
    "    def __init__(self, key):\n",
    "        self.key = key\n",
    "        self.neighbors = []\n",
    "\n",
    "    def add_neighbor(self, neighbor):\n",
    "        \"\"\"Add a neighbor to the vertex.\"\"\"\n",
    "        self.neighbors.append(neighbor)\n",
    "\n",
    "    def __str__(self):\n",
    "        return f\"Vertex {self.key} with neighbors {self.neighbors}\"\n",
    "\n",
    "\n",
    "class Graph:\n",
    "    def __init__(self):\n",
    "        self.vertices = {}\n",
    "\n",
    "    def add_vertex(self, key):\n",
    "        \"\"\"Add a vertex to the graph.\"\"\"\n",
    "        if key not in self.vertices:\n",
    "            self.vertices[key] = Vertex(key)\n",
    "        else:\n",
    "            print(f\"Vertex {key} already exists.\")\n",
    "\n",
    "    def add_vertices(self, keys):\n",
    "        \"\"\"Add multiple vertices to the graph.\"\"\"\n",
    "        for key in keys:\n",
    "            self.add_vertex(key)\n",
    "\n",
    "    def add_edge(self, key1, key2):\n",
    "        \"\"\"Add an edge between two vertices.\"\"\"\n",
    "        if key1 in self.vertices and key2 in self.vertices:\n",
    "            self.vertices[key1].add_neighbor(key2)\n",
    "            self.vertices[key2].add_neighbor(key1)\n",
    "        else:\n",
    "            print(f\"One or both vertices ({key1}, {key2}) do not exist.\")\n",
    "\n",
    "    def add_neighbors(self, key, neighbors):\n",
    "        \"\"\"Add multiple neighbors to a vertex.\"\"\"\n",
    "        if key in self.vertices:\n",
    "            for neighbor in neighbors:\n",
    "                self.vertices[key].add_neighbor(neighbor)\n",
    "        else:\n",
    "            print(f\"Vertex {key} does not exist.\")\n",
    "\n",
    "    def display_graph(self):\n",
    "        \"\"\"Display the entire graph with vertices and their neighbors.\"\"\"\n",
    "        for vertex in self.vertices.values():\n",
    "            print(vertex)\n",
    "\n",
    "\n",
    "graph = Graph()\n",
    "\n",
    "graph.add_vertices([1, 2, 3, 4, 5])\n",
    "\n",
    "graph.add_edge(1, 2)\n",
    "graph.add_edge(1, 3)\n",
    "graph.add_edge(2, 4)\n",
    "graph.add_edge(3, 5)\n",
    "\n",
    "graph.add_neighbors(4, [5])\n",
    "\n",
    "graph.display_graph()\n"
   ]
  },
  {
   "cell_type": "code",
   "execution_count": null,
   "id": "1b97de1d-51cc-405a-a309-43278e7a8657",
   "metadata": {},
   "outputs": [],
   "source": []
  }
 ],
 "metadata": {
  "kernelspec": {
   "display_name": "Python 3 (ipykernel)",
   "language": "python",
   "name": "python3"
  },
  "language_info": {
   "codemirror_mode": {
    "name": "ipython",
    "version": 3
   },
   "file_extension": ".py",
   "mimetype": "text/x-python",
   "name": "python",
   "nbconvert_exporter": "python",
   "pygments_lexer": "ipython3",
   "version": "3.12.7"
  }
 },
 "nbformat": 4,
 "nbformat_minor": 5
}
